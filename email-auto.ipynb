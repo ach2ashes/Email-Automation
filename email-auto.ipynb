{
 "cells": [
  {
   "cell_type": "markdown",
   "metadata": {},
   "source": [
    "<h1>Automate email sending with selenium 🤖</h1>"
   ]
  },
  {
   "cell_type": "code",
   "execution_count": 16,
   "metadata": {},
   "outputs": [],
   "source": [
    "from selenium import webdriver\n",
    "import pandas as pd\n",
    "pd.set_option(\"max_columns\", 500)\n",
    "import time\n",
    "from selenium.webdriver.common.keys import Keys\n",
    "from selenium.webdriver import ActionChains"
   ]
  },
  {
   "cell_type": "code",
   "execution_count": 17,
   "metadata": {},
   "outputs": [],
   "source": [
    "import warnings\n",
    "warnings.filterwarnings('ignore')"
   ]
  },
  {
   "cell_type": "code",
   "execution_count": null,
   "metadata": {},
   "outputs": [],
   "source": [
    "df = pd.read_csv(\"C:\\\\Users\\\\PC2\\\\Downloads\\\\bd_stage.csv\")\n",
    "df.columns=[\"Société\",\"mail1\",\"mail2\"]\n",
    "df"
   ]
  },
  {
   "cell_type": "code",
   "execution_count": 23,
   "metadata": {},
   "outputs": [],
   "source": [
    "#Create a dictionary containing the companies and their respective email(s)\n",
    "df = df.iloc[:110,:]\n",
    "df=df[df['Société'].notna()]\n",
    "df.shape\n",
    "dict = {}\n",
    "for i,row in df.iterrows():\n",
    "    l=[]\n",
    "    if not pd.isna(row['mail1']):\n",
    "        l.append(row['mail1'])\n",
    "    if not pd.isna(row['mail2']):\n",
    "        l.append(row['mail2'])\n",
    "    dict[row['Société']]=l\n",
    "dict"
   ]
  },
  {
   "cell_type": "code",
   "execution_count": 24,
   "metadata": {},
   "outputs": [
    {
     "name": "stdout",
     "output_type": "stream",
     "text": [
      "message sent to Renault\n",
      "message sent to Crouzet\n"
     ]
    }
   ],
   "source": [
    "\n",
    "options = webdriver.ChromeOptions()\n",
    "options.add_argument(\"user-data-dir=C:\\\\Users\\\\PC2\\\\AppData\\\\Local\\\\Google\\\\Chrome\\\\User Data\")\n",
    "driver = webdriver.Chrome(executable_path=\"C:\\\\Users\\PC2\\\\Downloads\\\\chromedriver_win32 (2)\\\\chromedriver.exe\",chrome_options=options)\n",
    "driver.get(\"https://www.google.com/intl/fr/gmail/about/\")\n",
    "driver.implicitly_wait(20)\n",
    "driver.find_element_by_link_text(\"Connexion\").click()\n",
    "driver.find_element_by_xpath(\"//div[@data-identifier='achraf.sbai2012@gmail.com']\").click()\n",
    "objet = \"candidature spontanée de stage\"\n",
    "for key, value in dict.items():\n",
    "    message = \"Bonjour,\\nActuellement étudiant en 1 ère année Data Engineering à l'INPT, j’ai l’honneur de vous soumettre ma candidature spontanée pour un stage d'initiation de durée 4 à 8 semaines au sein de votre entreprise \"+key+\".\\n Je serai ainsi disponible à partir du 1er Juillet aﬁn de consolider ma formation dans le domaine de Data Engineering / Data Science.\\nÉtant responsable , autonome et passionné par le domaine, je pense sincèrement avoir les qualités requises .\\nVous trouverez par ailleurs mon CV en pièce jointe.\\nJe vous remercie de l’attention que vous porterez à ma candidature spontanée de stage, et je me tiens à votre entière disposition pour de plus amples informations et un éventuel entretien.\\nDans l’attente de votre réponse, je vous prie d’agréer l’expression de mes respectueuses salutations.\"\n",
    "    for j in range(len(value)):\n",
    "        new = driver.find_element_by_xpath(\"//body[1]/div[7]/div[3]/div[1]/div[2]/div[1]/div[1]/div[1]/div[1]/div[1]/div[1]/div[1]/div[1]/div[1]\")\n",
    "        new.click()\n",
    "        to = driver.find_element_by_xpath(\"//textarea[@name='to']\")\n",
    "        title = driver.find_element_by_xpath(\"//input[@placeholder='Objet']\")   \n",
    "        fileInputElement = driver.find_element_by_xpath(\"//input[@name='Filedata']\")\n",
    "        msg_body = driver.find_element_by_xpath(\"//div[@aria-label='Corps du message']\")\n",
    "        address = value[j]\n",
    "        to.send_keys(address)\n",
    "        title.send_keys(objet)\n",
    "        msg_body.send_keys(message)\n",
    "        fileInputElement.send_keys('C:\\\\Users\\\\PC2\\\\Documents\\\\CV\\\\Achraf_sbai_cv1.pdf')\n",
    "        time.sleep(5)\n",
    "        a = ActionChains(driver)\n",
    "        a.key_down(Keys.CONTROL)\n",
    "        a.key_down(Keys.RETURN)\n",
    "        a.key_up(Keys.CONTROL)\n",
    "        a.key_up(Keys.RETURN)\n",
    "        a.perform()\n",
    "        print(\"message sent to {}\".format(key))\n"
   ]
  },
  {
   "cell_type": "code",
   "execution_count": null,
   "metadata": {},
   "outputs": [],
   "source": []
  }
 ],
 "metadata": {
  "interpreter": {
   "hash": "77b840b16efc606bfe6fe465e16c80fde01359cf425f7f37ae28958c7f375ddc"
  },
  "kernelspec": {
   "display_name": "Python 3.9.7 ('base')",
   "language": "python",
   "name": "python3"
  },
  "language_info": {
   "codemirror_mode": {
    "name": "ipython",
    "version": 3
   },
   "file_extension": ".py",
   "mimetype": "text/x-python",
   "name": "python",
   "nbconvert_exporter": "python",
   "pygments_lexer": "ipython3",
   "version": "3.9.7"
  },
  "orig_nbformat": 4
 },
 "nbformat": 4,
 "nbformat_minor": 2
}
